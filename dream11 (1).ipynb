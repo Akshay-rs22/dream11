{
 "cells": [
  {
   "cell_type": "code",
   "execution_count": 2,
   "metadata": {},
   "outputs": [],
   "source": [
    "op_team = {'de kock','gaikwad','jadeja','moein','krunal','d chahar','boult','ngidi','r chahar'}"
   ]
  },
  {
   "cell_type": "code",
   "execution_count": 3,
   "metadata": {},
   "outputs": [],
   "source": [
    "ur_team= {'de kock','s yadav','gaikwad','jadeja','neesham','moein','kulkarani','d chahar','r chahar'}"
   ]
  },
  {
   "cell_type": "code",
   "execution_count": 4,
   "metadata": {},
   "outputs": [],
   "source": [
    "w=ur_team - op_team"
   ]
  },
  {
   "cell_type": "code",
   "execution_count": 5,
   "metadata": {},
   "outputs": [
    {
     "data": {
      "text/plain": [
       "{'kulkarani', 'neesham', 's yadav'}"
      ]
     },
     "execution_count": 5,
     "metadata": {},
     "output_type": "execute_result"
    }
   ],
   "source": [
    "w"
   ]
  },
  {
   "cell_type": "code",
   "execution_count": 6,
   "metadata": {},
   "outputs": [],
   "source": [
    "l = op_team - ur_team"
   ]
  },
  {
   "cell_type": "code",
   "execution_count": 7,
   "metadata": {},
   "outputs": [
    {
     "data": {
      "text/plain": [
       "{'boult', 'krunal', 'ngidi'}"
      ]
     },
     "execution_count": 7,
     "metadata": {},
     "output_type": "execute_result"
    }
   ],
   "source": [
    "l"
   ]
  },
  {
   "cell_type": "code",
   "execution_count": 8,
   "metadata": {},
   "outputs": [],
   "source": [
    "ur_captain = {'faf'}\n",
    "ur_vcaptain = {'rohit'}\n",
    "op_captain ={'rohit'}\n",
    "op_vcaptain = {'faf'}\n"
   ]
  },
  {
   "cell_type": "code",
   "execution_count": 9,
   "metadata": {},
   "outputs": [],
   "source": [
    "a=[]\n",
    "l1=[]\n",
    "w1=[]\n",
    "\n",
    "if ur_captain ==  op_captain:\n",
    "    a.append(ur_captain)\n",
    "else:\n",
    "    w1.append(ur_captain)\n"
   ]
  },
  {
   "cell_type": "code",
   "execution_count": 10,
   "metadata": {},
   "outputs": [],
   "source": [
    "if ur_vcaptain ==  op_captain:\n",
    "    l1.append(op_captain)\n",
    "elif ur_vcaptain == op_vcaptain:\n",
    "    a.append(ur_vcaptain)\n",
    "else:\n",
    "    w1.append(ur_vcaptain)\n",
    "    "
   ]
  },
  {
   "cell_type": "code",
   "execution_count": 11,
   "metadata": {},
   "outputs": [
    {
     "name": "stdout",
     "output_type": "stream",
     "text": [
      "wining factor:- {'kulkarani', 's yadav', 'neesham'} [{'faf'}]\n",
      "loosing factor:- {'krunal', 'ngidi', 'boult'} [{'rohit'}]\n"
     ]
    }
   ],
   "source": [
    "print(\"wining factor:-\",w,w1)\n",
    "print(\"loosing factor:-\",l,l1)"
   ]
  },
  {
   "cell_type": "code",
   "execution_count": null,
   "metadata": {},
   "outputs": [],
   "source": []
  },
  {
   "cell_type": "code",
   "execution_count": null,
   "metadata": {},
   "outputs": [],
   "source": []
  }
 ],
 "metadata": {
  "kernelspec": {
   "display_name": "Python 3",
   "language": "python",
   "name": "python3"
  },
  "language_info": {
   "codemirror_mode": {
    "name": "ipython",
    "version": 3
   },
   "file_extension": ".py",
   "mimetype": "text/x-python",
   "name": "python",
   "nbconvert_exporter": "python",
   "pygments_lexer": "ipython3",
   "version": "3.8.5"
  }
 },
 "nbformat": 4,
 "nbformat_minor": 4
}
